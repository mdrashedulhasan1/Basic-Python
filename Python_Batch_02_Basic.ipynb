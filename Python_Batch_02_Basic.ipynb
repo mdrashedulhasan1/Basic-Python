{
  "nbformat": 4,
  "nbformat_minor": 0,
  "metadata": {
    "colab": {
      "name": "Python_Batch_02_Basic.ipynb",
      "provenance": [],
      "authorship_tag": "ABX9TyMNoKwOfHsBKqZlG5fdMN2/",
      "include_colab_link": true
    },
    "kernelspec": {
      "name": "python3",
      "display_name": "Python 3"
    },
    "language_info": {
      "name": "python"
    }
  },
  "cells": [
    {
      "cell_type": "markdown",
      "metadata": {
        "id": "view-in-github",
        "colab_type": "text"
      },
      "source": [
        "<a href=\"https://colab.research.google.com/github/mdrashedulhasan1/basic-python/blob/main/Python_Batch_02_Basic.ipynb\" target=\"_parent\"><img src=\"https://colab.research.google.com/assets/colab-badge.svg\" alt=\"Open In Colab\"/></a>"
      ]
    },
    {
      "cell_type": "code",
      "metadata": {
        "colab": {
          "base_uri": "https://localhost:8080/"
        },
        "id": "Hv1tVjRZiXMA",
        "outputId": "1894e75e-ed1e-486b-b2f3-24d5efa6a51f"
      },
      "source": [
        "# print(\"Hello World!\")\n",
        "# print(\"Hello World!\")\n",
        "# print(\"Hello World!\")\n",
        "\n",
        "# print(\"Python Print Function\")\n",
        "# print(\"The Function is declared like this:\")\n",
        "# print(\"print('Hello World!')\")\n",
        "\n",
        "# print(\"Rashedul\"+\"Hasan\")\n",
        "\n",
        "#print(\"Hello \"+input(\"Write your name:\"))\n",
        "#print(len(input(\"user name:\")))\n",
        "\n",
        "\n",
        "# name = \"Tapu\"\n",
        "# print(name)\n",
        "\n",
        "# a = 10\n",
        "# b = 5\n",
        "# c = a\n",
        "# a = b\n",
        "# b = c\n",
        "# print(\"a:\",a)\n",
        "# print(\"b:\",b)\n",
        "\n",
        "my_name = \"Tapu\"\n",
        "print(my_name)\n",
        "\n",
        "\n"
      ],
      "execution_count": null,
      "outputs": [
        {
          "output_type": "stream",
          "name": "stdout",
          "text": [
            "my_name\n"
          ]
        }
      ]
    }
  ]
}