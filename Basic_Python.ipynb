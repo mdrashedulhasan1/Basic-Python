{
  "nbformat": 4,
  "nbformat_minor": 0,
  "metadata": {
    "colab": {
      "name": "Basic_Python.ipynb",
      "provenance": [],
      "collapsed_sections": [],
      "authorship_tag": "ABX9TyMooUYwnjl50GN/w8a5WXSQ",
      "include_colab_link": true
    },
    "kernelspec": {
      "name": "python3",
      "display_name": "Python 3"
    },
    "language_info": {
      "name": "python"
    }
  },
  "cells": [
    {
      "cell_type": "markdown",
      "metadata": {
        "id": "view-in-github",
        "colab_type": "text"
      },
      "source": [
        "<a href=\"https://colab.research.google.com/github/mdrashedulhasan1/basic-python/blob/main/Basic_Python.ipynb\" target=\"_parent\"><img src=\"https://colab.research.google.com/assets/colab-badge.svg\" alt=\"Open In Colab\"/></a>"
      ]
    },
    {
      "cell_type": "code",
      "metadata": {
        "colab": {
          "base_uri": "https://localhost:8080/"
        },
        "id": "Hjm1DJrFvhmg",
        "outputId": "c9e4e925-8d33-4d1c-ff6c-85fff7411212"
      },
      "source": [
        "print(\"Python Print Function\")\n",
        "print(\"The function is declared like this:\")\n",
        "print(\"print('what to print')\")"
      ],
      "execution_count": 3,
      "outputs": [
        {
          "output_type": "stream",
          "name": "stdout",
          "text": [
            "Day 1 - Python Print Function\n",
            "The function is declared like this:\n",
            "print('what to print')\n"
          ]
        }
      ]
    },
    {
      "cell_type": "code",
      "metadata": {
        "colab": {
          "base_uri": "https://localhost:8080/"
        },
        "id": "dzVblYg121Ae",
        "outputId": "24f19f93-36a8-45e6-cc8d-4cbe5e6ea5bc"
      },
      "source": [
        "print(\"String Manipulation\")\n",
        "print(\"String Concatenation is done with the '+' sign.\")\n",
        "print('e.g.print(\"Hello\" + \"World\")')\n",
        "print(\"New lines can be created with a backslash and n.\")"
      ],
      "execution_count": 5,
      "outputs": [
        {
          "output_type": "stream",
          "name": "stdout",
          "text": [
            "Day 1 -String Manipulation\n",
            "String Concatenation is done with the '+' sign.\n",
            "e.g.print(\"Hello\" + \"World\")\n"
          ]
        }
      ]
    },
    {
      "cell_type": "code",
      "metadata": {
        "colab": {
          "base_uri": "https://localhost:8080/"
        },
        "id": "fk82-LNB7jYc",
        "outputId": "53e78613-469b-4204-afb5-65a57702f69c"
      },
      "source": [
        "# #using for python comments\n",
        "\n",
        "#Python input Function\n",
        "#print(\"Hello \"+input(\"Write your name:\"))\n",
        "print(len(input(\"write your name: \")))"
      ],
      "execution_count": 9,
      "outputs": [
        {
          "output_type": "stream",
          "name": "stdout",
          "text": [
            "write your name: Md. Rashedul Hasan\n",
            "18\n"
          ]
        }
      ]
    },
    {
      "cell_type": "code",
      "metadata": {
        "colab": {
          "base_uri": "https://localhost:8080/"
        },
        "id": "MgytAH428KW1",
        "outputId": "576a441c-c675-43f4-d366-061621c47264"
      },
      "source": [
        "#Python Variables\n",
        "\n",
        "my_name = \"Rashedul\"\n",
        "print(len(my_name))"
      ],
      "execution_count": 14,
      "outputs": [
        {
          "output_type": "stream",
          "name": "stdout",
          "text": [
            "8\n"
          ]
        }
      ]
    },
    {
      "cell_type": "code",
      "metadata": {
        "colab": {
          "base_uri": "https://localhost:8080/"
        },
        "id": "3kDZp_pNMyCm",
        "outputId": "d3383966-c388-4b30-a17c-31d7cb549784"
      },
      "source": [
        "#chellenge profile\n",
        "\n",
        "print(\"This is my profile\")\n",
        "print(input(\"My name is: \"))\n",
        "print(\"Daffodil International University\")\n",
        "print(\"Home town\"+\"Tangail\")"
      ],
      "execution_count": 18,
      "outputs": [
        {
          "output_type": "stream",
          "name": "stdout",
          "text": [
            "This is my profile\n",
            "My name is: Md. Rashedul Hasan\n",
            "Md. Rashedul Hasan\n",
            "Daffodil International University\n",
            "Home townTangail\n"
          ]
        }
      ]
    }
  ]
}